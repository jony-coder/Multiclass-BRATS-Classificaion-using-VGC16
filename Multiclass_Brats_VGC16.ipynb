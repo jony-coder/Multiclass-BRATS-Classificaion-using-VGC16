{
  "nbformat": 4,
  "nbformat_minor": 0,
  "metadata": {
    "colab": {
      "provenance": [],
      "collapsed_sections": []
    },
    "kernelspec": {
      "name": "python3",
      "display_name": "Python 3"
    },
    "language_info": {
      "name": "python"
    },
    "accelerator": "GPU",
    "gpuClass": "standard"
  },
  "cells": [
    {
      "cell_type": "code",
      "execution_count": 24,
      "metadata": {
        "colab": {
          "base_uri": "https://localhost:8080/"
        },
        "id": "p-YR4Szt0Y5B",
        "outputId": "e297788f-bd2f-4d27-c122-1befeb99e845"
      },
      "outputs": [
        {
          "output_type": "stream",
          "name": "stdout",
          "text": [
            "Fri Oct 28 06:42:28 2022       \n",
            "+-----------------------------------------------------------------------------+\n",
            "| NVIDIA-SMI 460.32.03    Driver Version: 460.32.03    CUDA Version: 11.2     |\n",
            "|-------------------------------+----------------------+----------------------+\n",
            "| GPU  Name        Persistence-M| Bus-Id        Disp.A | Volatile Uncorr. ECC |\n",
            "| Fan  Temp  Perf  Pwr:Usage/Cap|         Memory-Usage | GPU-Util  Compute M. |\n",
            "|                               |                      |               MIG M. |\n",
            "|===============================+======================+======================|\n",
            "|   0  Tesla T4            Off  | 00000000:00:04.0 Off |                    0 |\n",
            "| N/A   73C    P0    33W /  70W |   9156MiB / 15109MiB |      0%      Default |\n",
            "|                               |                      |                  N/A |\n",
            "+-------------------------------+----------------------+----------------------+\n",
            "                                                                               \n",
            "+-----------------------------------------------------------------------------+\n",
            "| Processes:                                                                  |\n",
            "|  GPU   GI   CI        PID   Type   Process name                  GPU Memory |\n",
            "|        ID   ID                                                   Usage      |\n",
            "|=============================================================================|\n",
            "+-----------------------------------------------------------------------------+\n"
          ]
        }
      ],
      "source": [
        "!nvidia-smi"
      ]
    },
    {
      "cell_type": "code",
      "source": [
        "!pip install tensorflow-gpu"
      ],
      "metadata": {
        "colab": {
          "base_uri": "https://localhost:8080/"
        },
        "id": "OQ8GWuZo3ath",
        "outputId": "87a5cea8-95b6-45e7-a30c-ee57d67fd68d"
      },
      "execution_count": 2,
      "outputs": [
        {
          "output_type": "stream",
          "name": "stdout",
          "text": [
            "Looking in indexes: https://pypi.org/simple, https://us-python.pkg.dev/colab-wheels/public/simple/\n",
            "Collecting tensorflow-gpu\n",
            "  Downloading tensorflow_gpu-2.10.0-cp37-cp37m-manylinux_2_17_x86_64.manylinux2014_x86_64.whl (578.0 MB)\n",
            "\u001b[K     |████████████████████████████████| 578.0 MB 17 kB/s \n",
            "\u001b[?25hCollecting keras<2.11,>=2.10.0\n",
            "  Downloading keras-2.10.0-py2.py3-none-any.whl (1.7 MB)\n",
            "\u001b[K     |████████████████████████████████| 1.7 MB 55.9 MB/s \n",
            "\u001b[?25hRequirement already satisfied: grpcio<2.0,>=1.24.3 in /usr/local/lib/python3.7/dist-packages (from tensorflow-gpu) (1.50.0)\n",
            "Requirement already satisfied: keras-preprocessing>=1.1.1 in /usr/local/lib/python3.7/dist-packages (from tensorflow-gpu) (1.1.2)\n",
            "Requirement already satisfied: h5py>=2.9.0 in /usr/local/lib/python3.7/dist-packages (from tensorflow-gpu) (3.1.0)\n",
            "Requirement already satisfied: numpy>=1.20 in /usr/local/lib/python3.7/dist-packages (from tensorflow-gpu) (1.21.6)\n",
            "Collecting flatbuffers>=2.0\n",
            "  Downloading flatbuffers-22.10.26-py2.py3-none-any.whl (26 kB)\n",
            "Requirement already satisfied: termcolor>=1.1.0 in /usr/local/lib/python3.7/dist-packages (from tensorflow-gpu) (2.0.1)\n",
            "Requirement already satisfied: setuptools in /usr/local/lib/python3.7/dist-packages (from tensorflow-gpu) (57.4.0)\n",
            "Requirement already satisfied: wrapt>=1.11.0 in /usr/local/lib/python3.7/dist-packages (from tensorflow-gpu) (1.14.1)\n",
            "Requirement already satisfied: protobuf<3.20,>=3.9.2 in /usr/local/lib/python3.7/dist-packages (from tensorflow-gpu) (3.17.3)\n",
            "Requirement already satisfied: six>=1.12.0 in /usr/local/lib/python3.7/dist-packages (from tensorflow-gpu) (1.15.0)\n",
            "Requirement already satisfied: tensorflow-io-gcs-filesystem>=0.23.1 in /usr/local/lib/python3.7/dist-packages (from tensorflow-gpu) (0.27.0)\n",
            "Requirement already satisfied: google-pasta>=0.1.1 in /usr/local/lib/python3.7/dist-packages (from tensorflow-gpu) (0.2.0)\n",
            "Requirement already satisfied: absl-py>=1.0.0 in /usr/local/lib/python3.7/dist-packages (from tensorflow-gpu) (1.3.0)\n",
            "Requirement already satisfied: packaging in /usr/local/lib/python3.7/dist-packages (from tensorflow-gpu) (21.3)\n",
            "Collecting tensorboard<2.11,>=2.10\n",
            "  Downloading tensorboard-2.10.1-py3-none-any.whl (5.9 MB)\n",
            "\u001b[K     |████████████████████████████████| 5.9 MB 55.9 MB/s \n",
            "\u001b[?25hRequirement already satisfied: astunparse>=1.6.0 in /usr/local/lib/python3.7/dist-packages (from tensorflow-gpu) (1.6.3)\n",
            "Requirement already satisfied: gast<=0.4.0,>=0.2.1 in /usr/local/lib/python3.7/dist-packages (from tensorflow-gpu) (0.4.0)\n",
            "Requirement already satisfied: libclang>=13.0.0 in /usr/local/lib/python3.7/dist-packages (from tensorflow-gpu) (14.0.6)\n",
            "Collecting tensorflow-estimator<2.11,>=2.10.0\n",
            "  Downloading tensorflow_estimator-2.10.0-py2.py3-none-any.whl (438 kB)\n",
            "\u001b[K     |████████████████████████████████| 438 kB 74.0 MB/s \n",
            "\u001b[?25hRequirement already satisfied: opt-einsum>=2.3.2 in /usr/local/lib/python3.7/dist-packages (from tensorflow-gpu) (3.3.0)\n",
            "Requirement already satisfied: typing-extensions>=3.6.6 in /usr/local/lib/python3.7/dist-packages (from tensorflow-gpu) (4.1.1)\n",
            "Requirement already satisfied: wheel<1.0,>=0.23.0 in /usr/local/lib/python3.7/dist-packages (from astunparse>=1.6.0->tensorflow-gpu) (0.37.1)\n",
            "Requirement already satisfied: cached-property in /usr/local/lib/python3.7/dist-packages (from h5py>=2.9.0->tensorflow-gpu) (1.5.2)\n",
            "Requirement already satisfied: werkzeug>=1.0.1 in /usr/local/lib/python3.7/dist-packages (from tensorboard<2.11,>=2.10->tensorflow-gpu) (1.0.1)\n",
            "Requirement already satisfied: markdown>=2.6.8 in /usr/local/lib/python3.7/dist-packages (from tensorboard<2.11,>=2.10->tensorflow-gpu) (3.4.1)\n",
            "Requirement already satisfied: google-auth<3,>=1.6.3 in /usr/local/lib/python3.7/dist-packages (from tensorboard<2.11,>=2.10->tensorflow-gpu) (1.35.0)\n",
            "Requirement already satisfied: requests<3,>=2.21.0 in /usr/local/lib/python3.7/dist-packages (from tensorboard<2.11,>=2.10->tensorflow-gpu) (2.23.0)\n",
            "Requirement already satisfied: tensorboard-data-server<0.7.0,>=0.6.0 in /usr/local/lib/python3.7/dist-packages (from tensorboard<2.11,>=2.10->tensorflow-gpu) (0.6.1)\n",
            "Requirement already satisfied: tensorboard-plugin-wit>=1.6.0 in /usr/local/lib/python3.7/dist-packages (from tensorboard<2.11,>=2.10->tensorflow-gpu) (1.8.1)\n",
            "Requirement already satisfied: google-auth-oauthlib<0.5,>=0.4.1 in /usr/local/lib/python3.7/dist-packages (from tensorboard<2.11,>=2.10->tensorflow-gpu) (0.4.6)\n",
            "Requirement already satisfied: rsa<5,>=3.1.4 in /usr/local/lib/python3.7/dist-packages (from google-auth<3,>=1.6.3->tensorboard<2.11,>=2.10->tensorflow-gpu) (4.9)\n",
            "Requirement already satisfied: pyasn1-modules>=0.2.1 in /usr/local/lib/python3.7/dist-packages (from google-auth<3,>=1.6.3->tensorboard<2.11,>=2.10->tensorflow-gpu) (0.2.8)\n",
            "Requirement already satisfied: cachetools<5.0,>=2.0.0 in /usr/local/lib/python3.7/dist-packages (from google-auth<3,>=1.6.3->tensorboard<2.11,>=2.10->tensorflow-gpu) (4.2.4)\n",
            "Requirement already satisfied: requests-oauthlib>=0.7.0 in /usr/local/lib/python3.7/dist-packages (from google-auth-oauthlib<0.5,>=0.4.1->tensorboard<2.11,>=2.10->tensorflow-gpu) (1.3.1)\n",
            "Requirement already satisfied: importlib-metadata>=4.4 in /usr/local/lib/python3.7/dist-packages (from markdown>=2.6.8->tensorboard<2.11,>=2.10->tensorflow-gpu) (4.13.0)\n",
            "Requirement already satisfied: zipp>=0.5 in /usr/local/lib/python3.7/dist-packages (from importlib-metadata>=4.4->markdown>=2.6.8->tensorboard<2.11,>=2.10->tensorflow-gpu) (3.9.0)\n",
            "Requirement already satisfied: pyasn1<0.5.0,>=0.4.6 in /usr/local/lib/python3.7/dist-packages (from pyasn1-modules>=0.2.1->google-auth<3,>=1.6.3->tensorboard<2.11,>=2.10->tensorflow-gpu) (0.4.8)\n",
            "Requirement already satisfied: idna<3,>=2.5 in /usr/local/lib/python3.7/dist-packages (from requests<3,>=2.21.0->tensorboard<2.11,>=2.10->tensorflow-gpu) (2.10)\n",
            "Requirement already satisfied: certifi>=2017.4.17 in /usr/local/lib/python3.7/dist-packages (from requests<3,>=2.21.0->tensorboard<2.11,>=2.10->tensorflow-gpu) (2022.9.24)\n",
            "Requirement already satisfied: urllib3!=1.25.0,!=1.25.1,<1.26,>=1.21.1 in /usr/local/lib/python3.7/dist-packages (from requests<3,>=2.21.0->tensorboard<2.11,>=2.10->tensorflow-gpu) (1.24.3)\n",
            "Requirement already satisfied: chardet<4,>=3.0.2 in /usr/local/lib/python3.7/dist-packages (from requests<3,>=2.21.0->tensorboard<2.11,>=2.10->tensorflow-gpu) (3.0.4)\n",
            "Requirement already satisfied: oauthlib>=3.0.0 in /usr/local/lib/python3.7/dist-packages (from requests-oauthlib>=0.7.0->google-auth-oauthlib<0.5,>=0.4.1->tensorboard<2.11,>=2.10->tensorflow-gpu) (3.2.2)\n",
            "Requirement already satisfied: pyparsing!=3.0.5,>=2.0.2 in /usr/local/lib/python3.7/dist-packages (from packaging->tensorflow-gpu) (3.0.9)\n",
            "Installing collected packages: tensorflow-estimator, tensorboard, keras, flatbuffers, tensorflow-gpu\n",
            "  Attempting uninstall: tensorflow-estimator\n",
            "    Found existing installation: tensorflow-estimator 2.9.0\n",
            "    Uninstalling tensorflow-estimator-2.9.0:\n",
            "      Successfully uninstalled tensorflow-estimator-2.9.0\n",
            "  Attempting uninstall: tensorboard\n",
            "    Found existing installation: tensorboard 2.9.1\n",
            "    Uninstalling tensorboard-2.9.1:\n",
            "      Successfully uninstalled tensorboard-2.9.1\n",
            "  Attempting uninstall: keras\n",
            "    Found existing installation: keras 2.9.0\n",
            "    Uninstalling keras-2.9.0:\n",
            "      Successfully uninstalled keras-2.9.0\n",
            "  Attempting uninstall: flatbuffers\n",
            "    Found existing installation: flatbuffers 1.12\n",
            "    Uninstalling flatbuffers-1.12:\n",
            "      Successfully uninstalled flatbuffers-1.12\n",
            "\u001b[31mERROR: pip's dependency resolver does not currently take into account all the packages that are installed. This behaviour is the source of the following dependency conflicts.\n",
            "tensorflow 2.9.2 requires flatbuffers<2,>=1.12, but you have flatbuffers 22.10.26 which is incompatible.\n",
            "tensorflow 2.9.2 requires keras<2.10.0,>=2.9.0rc0, but you have keras 2.10.0 which is incompatible.\n",
            "tensorflow 2.9.2 requires tensorboard<2.10,>=2.9, but you have tensorboard 2.10.1 which is incompatible.\n",
            "tensorflow 2.9.2 requires tensorflow-estimator<2.10.0,>=2.9.0rc0, but you have tensorflow-estimator 2.10.0 which is incompatible.\u001b[0m\n",
            "Successfully installed flatbuffers-22.10.26 keras-2.10.0 tensorboard-2.10.1 tensorflow-estimator-2.10.0 tensorflow-gpu-2.10.0\n"
          ]
        }
      ]
    },
    {
      "cell_type": "code",
      "source": [
        "from keras.layers import Input, Lambda, Dense, Flatten\n",
        "from keras.models import Model\n",
        "from keras.applications.vgg16 import VGG16\n",
        "from keras.applications.vgg16 import preprocess_input\n",
        "from keras.preprocessing import image\n",
        "from keras.preprocessing.image import ImageDataGenerator\n",
        "from sklearn.metrics import confusion_matrix , classification_report\n",
        "from keras.models import Sequential\n",
        "import numpy as np\n",
        "from glob import glob\n",
        "import matplotlib.pyplot as plt"
      ],
      "metadata": {
        "id": "9Z-jm2tt4aa9"
      },
      "execution_count": 25,
      "outputs": []
    },
    {
      "cell_type": "code",
      "source": [
        "# re-size all the images to this\n",
        "IMAGE_SIZE = [224, 224]\n",
        "\n",
        "train_path = '/content/drive/MyDrive/Multiclass Brats VGG16/train'\n",
        "valid_path = '/content/drive/MyDrive/Multiclass Brats VGG16/test'"
      ],
      "metadata": {
        "id": "6yW_N1mjD_ht"
      },
      "execution_count": 26,
      "outputs": []
    },
    {
      "cell_type": "code",
      "source": [
        "# add preprocessing layer to the front of VGG\n",
        "vgg = VGG16(input_shape=IMAGE_SIZE + [3], weights='imagenet', include_top=False)"
      ],
      "metadata": {
        "id": "BN4osyzEELvD"
      },
      "execution_count": 27,
      "outputs": []
    },
    {
      "cell_type": "code",
      "source": [
        "# don't train existing weights\n",
        "for layer in vgg.layers:\n",
        "  layer.trainable = False"
      ],
      "metadata": {
        "id": "6KqM19bsEQp6"
      },
      "execution_count": 28,
      "outputs": []
    },
    {
      "cell_type": "code",
      "source": [
        "  # useful for getting number of classes\n",
        "folders = glob('/content/drive/MyDrive/Multiclass Brats VGG16/train/*')"
      ],
      "metadata": {
        "id": "wupEYsgtERen"
      },
      "execution_count": 29,
      "outputs": []
    },
    {
      "cell_type": "code",
      "source": [
        "folders"
      ],
      "metadata": {
        "colab": {
          "base_uri": "https://localhost:8080/"
        },
        "id": "TgJ1cS3_ETp5",
        "outputId": "ffa72ce8-443b-456b-8cde-1f5a8fd1a282"
      },
      "execution_count": 30,
      "outputs": [
        {
          "output_type": "execute_result",
          "data": {
            "text/plain": [
              "['/content/drive/MyDrive/Multiclass Brats VGG16/train/0',\n",
              " '/content/drive/MyDrive/Multiclass Brats VGG16/train/1',\n",
              " '/content/drive/MyDrive/Multiclass Brats VGG16/train/3',\n",
              " '/content/drive/MyDrive/Multiclass Brats VGG16/train/2']"
            ]
          },
          "metadata": {},
          "execution_count": 30
        }
      ]
    },
    {
      "cell_type": "code",
      "source": [
        "# our layers - you can add more if you want\n",
        "x = Flatten()(vgg.output)\n",
        "# x = Dense(1000, activation='relu')(x)\n",
        "prediction = Dense(len(folders), activation='softmax')(x)"
      ],
      "metadata": {
        "id": "WubQt1DaEVgp"
      },
      "execution_count": 31,
      "outputs": []
    },
    {
      "cell_type": "code",
      "source": [
        "# create a model object\n",
        "model = Model(inputs=vgg.input, outputs=prediction)"
      ],
      "metadata": {
        "id": "I7YXOjX7EbD5"
      },
      "execution_count": 32,
      "outputs": []
    },
    {
      "cell_type": "code",
      "source": [
        "# view the structure of the model\n",
        "model.summary()"
      ],
      "metadata": {
        "colab": {
          "base_uri": "https://localhost:8080/"
        },
        "id": "MUUr6AfqEdhQ",
        "outputId": "55019545-323a-4a67-f831-f16698492eae"
      },
      "execution_count": 33,
      "outputs": [
        {
          "output_type": "stream",
          "name": "stdout",
          "text": [
            "Model: \"model_2\"\n",
            "_________________________________________________________________\n",
            " Layer (type)                Output Shape              Param #   \n",
            "=================================================================\n",
            " input_2 (InputLayer)        [(None, 224, 224, 3)]     0         \n",
            "                                                                 \n",
            " block1_conv1 (Conv2D)       (None, 224, 224, 64)      1792      \n",
            "                                                                 \n",
            " block1_conv2 (Conv2D)       (None, 224, 224, 64)      36928     \n",
            "                                                                 \n",
            " block1_pool (MaxPooling2D)  (None, 112, 112, 64)      0         \n",
            "                                                                 \n",
            " block2_conv1 (Conv2D)       (None, 112, 112, 128)     73856     \n",
            "                                                                 \n",
            " block2_conv2 (Conv2D)       (None, 112, 112, 128)     147584    \n",
            "                                                                 \n",
            " block2_pool (MaxPooling2D)  (None, 56, 56, 128)       0         \n",
            "                                                                 \n",
            " block3_conv1 (Conv2D)       (None, 56, 56, 256)       295168    \n",
            "                                                                 \n",
            " block3_conv2 (Conv2D)       (None, 56, 56, 256)       590080    \n",
            "                                                                 \n",
            " block3_conv3 (Conv2D)       (None, 56, 56, 256)       590080    \n",
            "                                                                 \n",
            " block3_pool (MaxPooling2D)  (None, 28, 28, 256)       0         \n",
            "                                                                 \n",
            " block4_conv1 (Conv2D)       (None, 28, 28, 512)       1180160   \n",
            "                                                                 \n",
            " block4_conv2 (Conv2D)       (None, 28, 28, 512)       2359808   \n",
            "                                                                 \n",
            " block4_conv3 (Conv2D)       (None, 28, 28, 512)       2359808   \n",
            "                                                                 \n",
            " block4_pool (MaxPooling2D)  (None, 14, 14, 512)       0         \n",
            "                                                                 \n",
            " block5_conv1 (Conv2D)       (None, 14, 14, 512)       2359808   \n",
            "                                                                 \n",
            " block5_conv2 (Conv2D)       (None, 14, 14, 512)       2359808   \n",
            "                                                                 \n",
            " block5_conv3 (Conv2D)       (None, 14, 14, 512)       2359808   \n",
            "                                                                 \n",
            " block5_pool (MaxPooling2D)  (None, 7, 7, 512)         0         \n",
            "                                                                 \n",
            " flatten_2 (Flatten)         (None, 25088)             0         \n",
            "                                                                 \n",
            " dense_2 (Dense)             (None, 4)                 100356    \n",
            "                                                                 \n",
            "=================================================================\n",
            "Total params: 14,815,044\n",
            "Trainable params: 100,356\n",
            "Non-trainable params: 14,714,688\n",
            "_________________________________________________________________\n"
          ]
        }
      ]
    },
    {
      "cell_type": "code",
      "source": [
        "# tell the model what cost and optimization method to use\n",
        "model.compile(\n",
        "  loss='categorical_crossentropy',\n",
        "  optimizer='adam',\n",
        "  metrics=['accuracy']\n",
        ")"
      ],
      "metadata": {
        "id": "e5lABSKaEfcq"
      },
      "execution_count": 34,
      "outputs": []
    },
    {
      "cell_type": "code",
      "source": [
        "from keras.preprocessing.image import ImageDataGenerator\n",
        "\n",
        "train_datagen = ImageDataGenerator(rescale = 1./255,\n",
        "                                   shear_range = 0.2,\n",
        "                                   zoom_range = 0.2,\n",
        "                                   horizontal_flip = True)\n",
        "\n",
        "test_datagen = ImageDataGenerator(rescale = 1./255)\n",
        "\n",
        "training_set = train_datagen.flow_from_directory('/content/drive/MyDrive/Multiclass Brats VGG16/train',\n",
        "                                                 target_size = (224, 224),\n",
        "                                                 batch_size = 32,\n",
        "                                                 class_mode = 'categorical')\n",
        "\n",
        "test_set = test_datagen.flow_from_directory('/content/drive/MyDrive/Multiclass Brats VGG16/test',\n",
        "                                            target_size = (224, 224),\n",
        "                                            batch_size = 32,\n",
        "                                            class_mode = 'categorical')"
      ],
      "metadata": {
        "colab": {
          "base_uri": "https://localhost:8080/"
        },
        "id": "JZmvnxK5EjrJ",
        "outputId": "ffc67303-a7a3-4488-ad2b-484133bba8dc"
      },
      "execution_count": 35,
      "outputs": [
        {
          "output_type": "stream",
          "name": "stdout",
          "text": [
            "Found 2870 images belonging to 4 classes.\n",
            "Found 394 images belonging to 4 classes.\n"
          ]
        }
      ]
    },
    {
      "cell_type": "code",
      "source": [
        "# fit the model\n",
        "r = model.fit_generator(\n",
        "  training_set,\n",
        "  validation_data=test_set,\n",
        "  epochs=50,\n",
        "  steps_per_epoch=len(training_set),\n",
        "  validation_steps=len(test_set)\n",
        ")"
      ],
      "metadata": {
        "colab": {
          "base_uri": "https://localhost:8080/"
        },
        "id": "Ov9eDzAWEmJ4",
        "outputId": "01acc5c1-403e-4685-e0db-ff0c8a3ef725"
      },
      "execution_count": 36,
      "outputs": [
        {
          "output_type": "stream",
          "name": "stderr",
          "text": [
            "/usr/local/lib/python3.7/dist-packages/ipykernel_launcher.py:7: UserWarning: `Model.fit_generator` is deprecated and will be removed in a future version. Please use `Model.fit`, which supports generators.\n",
            "  import sys\n"
          ]
        },
        {
          "output_type": "stream",
          "name": "stdout",
          "text": [
            "Epoch 1/50\n",
            "90/90 [==============================] - 46s 508ms/step - loss: 0.8175 - accuracy: 0.6920 - val_loss: 1.3805 - val_accuracy: 0.5431\n",
            "Epoch 2/50\n",
            "90/90 [==============================] - 47s 524ms/step - loss: 0.4676 - accuracy: 0.8233 - val_loss: 1.4370 - val_accuracy: 0.6497\n",
            "Epoch 3/50\n",
            "90/90 [==============================] - 45s 499ms/step - loss: 0.3581 - accuracy: 0.8610 - val_loss: 1.6008 - val_accuracy: 0.6802\n",
            "Epoch 4/50\n",
            "90/90 [==============================] - 44s 490ms/step - loss: 0.2824 - accuracy: 0.8983 - val_loss: 1.5033 - val_accuracy: 0.7208\n",
            "Epoch 5/50\n",
            "90/90 [==============================] - 44s 490ms/step - loss: 0.2461 - accuracy: 0.9115 - val_loss: 1.4889 - val_accuracy: 0.7259\n",
            "Epoch 6/50\n",
            "90/90 [==============================] - 46s 512ms/step - loss: 0.2283 - accuracy: 0.9230 - val_loss: 1.7453 - val_accuracy: 0.7487\n",
            "Epoch 7/50\n",
            "90/90 [==============================] - 44s 493ms/step - loss: 0.2087 - accuracy: 0.9237 - val_loss: 1.5639 - val_accuracy: 0.7386\n",
            "Epoch 8/50\n",
            "90/90 [==============================] - 44s 491ms/step - loss: 0.1923 - accuracy: 0.9300 - val_loss: 1.6693 - val_accuracy: 0.7284\n",
            "Epoch 9/50\n",
            "90/90 [==============================] - 44s 491ms/step - loss: 0.1660 - accuracy: 0.9394 - val_loss: 1.7757 - val_accuracy: 0.7411\n",
            "Epoch 10/50\n",
            "90/90 [==============================] - 45s 499ms/step - loss: 0.1475 - accuracy: 0.9484 - val_loss: 1.7928 - val_accuracy: 0.7665\n",
            "Epoch 11/50\n",
            "90/90 [==============================] - 46s 512ms/step - loss: 0.1364 - accuracy: 0.9547 - val_loss: 1.5373 - val_accuracy: 0.7690\n",
            "Epoch 12/50\n",
            "90/90 [==============================] - 45s 496ms/step - loss: 0.1565 - accuracy: 0.9411 - val_loss: 1.4783 - val_accuracy: 0.7589\n",
            "Epoch 13/50\n",
            "90/90 [==============================] - 44s 493ms/step - loss: 0.1339 - accuracy: 0.9512 - val_loss: 1.7728 - val_accuracy: 0.7690\n",
            "Epoch 14/50\n",
            "90/90 [==============================] - 45s 494ms/step - loss: 0.1160 - accuracy: 0.9610 - val_loss: 1.4406 - val_accuracy: 0.7843\n",
            "Epoch 15/50\n",
            "90/90 [==============================] - 44s 490ms/step - loss: 0.1042 - accuracy: 0.9627 - val_loss: 2.0392 - val_accuracy: 0.7335\n",
            "Epoch 16/50\n",
            "90/90 [==============================] - 45s 500ms/step - loss: 0.1056 - accuracy: 0.9669 - val_loss: 1.4733 - val_accuracy: 0.8020\n",
            "Epoch 17/50\n",
            "90/90 [==============================] - 44s 495ms/step - loss: 0.0977 - accuracy: 0.9659 - val_loss: 1.7487 - val_accuracy: 0.7741\n",
            "Epoch 18/50\n",
            "90/90 [==============================] - 44s 494ms/step - loss: 0.0863 - accuracy: 0.9693 - val_loss: 2.1568 - val_accuracy: 0.7665\n",
            "Epoch 19/50\n",
            "90/90 [==============================] - 46s 514ms/step - loss: 0.1101 - accuracy: 0.9617 - val_loss: 2.5496 - val_accuracy: 0.7208\n",
            "Epoch 20/50\n",
            "90/90 [==============================] - 45s 494ms/step - loss: 0.1085 - accuracy: 0.9561 - val_loss: 1.7800 - val_accuracy: 0.7843\n",
            "Epoch 21/50\n",
            "90/90 [==============================] - 45s 494ms/step - loss: 0.1019 - accuracy: 0.9624 - val_loss: 2.2669 - val_accuracy: 0.7766\n",
            "Epoch 22/50\n",
            "90/90 [==============================] - 44s 491ms/step - loss: 0.0907 - accuracy: 0.9645 - val_loss: 1.8223 - val_accuracy: 0.7766\n",
            "Epoch 23/50\n",
            "90/90 [==============================] - 45s 497ms/step - loss: 0.0801 - accuracy: 0.9700 - val_loss: 2.5494 - val_accuracy: 0.7538\n",
            "Epoch 24/50\n",
            "90/90 [==============================] - 46s 512ms/step - loss: 0.0632 - accuracy: 0.9805 - val_loss: 2.4480 - val_accuracy: 0.7437\n",
            "Epoch 25/50\n",
            "90/90 [==============================] - 44s 489ms/step - loss: 0.0939 - accuracy: 0.9599 - val_loss: 2.1356 - val_accuracy: 0.7766\n",
            "Epoch 26/50\n",
            "90/90 [==============================] - 44s 493ms/step - loss: 0.0577 - accuracy: 0.9829 - val_loss: 2.0230 - val_accuracy: 0.7868\n",
            "Epoch 27/50\n",
            "90/90 [==============================] - 44s 490ms/step - loss: 0.0547 - accuracy: 0.9847 - val_loss: 2.2375 - val_accuracy: 0.7690\n",
            "Epoch 28/50\n",
            "90/90 [==============================] - 44s 490ms/step - loss: 0.0512 - accuracy: 0.9854 - val_loss: 2.2742 - val_accuracy: 0.7919\n",
            "Epoch 29/50\n",
            "90/90 [==============================] - 46s 508ms/step - loss: 0.0600 - accuracy: 0.9819 - val_loss: 2.6289 - val_accuracy: 0.7462\n",
            "Epoch 30/50\n",
            "90/90 [==============================] - 45s 494ms/step - loss: 0.0475 - accuracy: 0.9878 - val_loss: 2.3819 - val_accuracy: 0.7741\n",
            "Epoch 31/50\n",
            "90/90 [==============================] - 44s 488ms/step - loss: 0.0417 - accuracy: 0.9899 - val_loss: 2.3371 - val_accuracy: 0.7919\n",
            "Epoch 32/50\n",
            "90/90 [==============================] - 44s 487ms/step - loss: 0.0401 - accuracy: 0.9902 - val_loss: 2.2471 - val_accuracy: 0.7843\n",
            "Epoch 33/50\n",
            "90/90 [==============================] - 44s 489ms/step - loss: 0.0448 - accuracy: 0.9871 - val_loss: 2.0631 - val_accuracy: 0.7690\n",
            "Epoch 34/50\n",
            "90/90 [==============================] - 45s 504ms/step - loss: 0.0406 - accuracy: 0.9882 - val_loss: 2.7865 - val_accuracy: 0.7437\n",
            "Epoch 35/50\n",
            "90/90 [==============================] - 44s 490ms/step - loss: 0.0552 - accuracy: 0.9815 - val_loss: 2.1286 - val_accuracy: 0.8096\n",
            "Epoch 36/50\n",
            "90/90 [==============================] - 44s 489ms/step - loss: 0.0422 - accuracy: 0.9882 - val_loss: 2.1743 - val_accuracy: 0.7766\n",
            "Epoch 37/50\n",
            "90/90 [==============================] - 44s 492ms/step - loss: 0.1156 - accuracy: 0.9571 - val_loss: 2.6491 - val_accuracy: 0.7970\n",
            "Epoch 38/50\n",
            "90/90 [==============================] - 44s 488ms/step - loss: 0.0407 - accuracy: 0.9882 - val_loss: 2.3400 - val_accuracy: 0.7741\n",
            "Epoch 39/50\n",
            "90/90 [==============================] - 44s 487ms/step - loss: 0.0431 - accuracy: 0.9878 - val_loss: 2.4476 - val_accuracy: 0.7817\n",
            "Epoch 40/50\n",
            "90/90 [==============================] - 44s 488ms/step - loss: 0.0431 - accuracy: 0.9864 - val_loss: 1.9344 - val_accuracy: 0.7817\n",
            "Epoch 41/50\n",
            "90/90 [==============================] - 44s 486ms/step - loss: 0.0534 - accuracy: 0.9826 - val_loss: 1.9649 - val_accuracy: 0.7919\n",
            "Epoch 42/50\n",
            "90/90 [==============================] - 44s 487ms/step - loss: 0.0466 - accuracy: 0.9850 - val_loss: 2.7386 - val_accuracy: 0.7893\n",
            "Epoch 43/50\n",
            "90/90 [==============================] - 46s 510ms/step - loss: 0.0355 - accuracy: 0.9892 - val_loss: 2.5322 - val_accuracy: 0.7716\n",
            "Epoch 44/50\n",
            "90/90 [==============================] - 44s 484ms/step - loss: 0.0251 - accuracy: 0.9955 - val_loss: 2.5110 - val_accuracy: 0.7741\n",
            "Epoch 45/50\n",
            "90/90 [==============================] - 44s 486ms/step - loss: 0.0279 - accuracy: 0.9906 - val_loss: 2.9926 - val_accuracy: 0.7716\n",
            "Epoch 46/50\n",
            "90/90 [==============================] - 44s 487ms/step - loss: 0.0729 - accuracy: 0.9739 - val_loss: 2.4737 - val_accuracy: 0.7640\n",
            "Epoch 47/50\n",
            "90/90 [==============================] - 45s 505ms/step - loss: 0.0449 - accuracy: 0.9850 - val_loss: 2.0340 - val_accuracy: 0.8122\n",
            "Epoch 48/50\n",
            "90/90 [==============================] - 44s 491ms/step - loss: 0.0346 - accuracy: 0.9889 - val_loss: 2.0035 - val_accuracy: 0.7995\n",
            "Epoch 49/50\n",
            "90/90 [==============================] - 44s 491ms/step - loss: 0.0581 - accuracy: 0.9760 - val_loss: 2.9886 - val_accuracy: 0.7665\n",
            "Epoch 50/50\n",
            "90/90 [==============================] - 44s 489ms/step - loss: 0.0282 - accuracy: 0.9930 - val_loss: 2.6653 - val_accuracy: 0.8046\n"
          ]
        }
      ]
    },
    {
      "cell_type": "code",
      "source": [
        "# loss\n",
        "plt.plot(r.history['loss'], label='train loss')\n",
        "plt.plot(r.history['val_loss'], label='val loss')\n",
        "plt.legend()\n",
        "plt.show()\n",
        "plt.savefig('LossVal_loss')"
      ],
      "metadata": {
        "colab": {
          "base_uri": "https://localhost:8080/",
          "height": 282
        },
        "id": "Iz_PdXR8UcFW",
        "outputId": "55cbf6e9-52d2-4ddc-bcdd-93607598f1e5"
      },
      "execution_count": 37,
      "outputs": [
        {
          "output_type": "display_data",
          "data": {
            "text/plain": [
              "<Figure size 432x288 with 1 Axes>"
            ],
            "image/png": "[encoded data removed]"
          },
          "metadata": {
            "needs_background": "light"
          }
        },
        {
          "output_type": "display_data",
          "data": {
            "text/plain": [
              "<Figure size 432x288 with 0 Axes>"
            ]
          },
          "metadata": {}
        }
      ]
    },
    {
      "cell_type": "code",
      "source": [
        "# accuracy \n",
        "plt.figure(0)\n",
        "plt.plot(r.history['accuracy'], label='training accuracy')\n",
        "plt.plot(r.history['val_accuracy'], label='val accuracy')\n",
        "plt.title('Accuracy')\n",
        "plt.xlabel('epochs')\n",
        "plt.ylabel('accuracy')\n",
        "plt.legend()\n",
        "plt.show()"
      ],
      "metadata": {
        "colab": {
          "base_uri": "https://localhost:8080/",
          "height": 295
        },
        "id": "f9mRr7X_Ui4a",
        "outputId": "f6f14a3a-9d1b-40fc-8ada-d1f19fa2b09e"
      },
      "execution_count": 38,
      "outputs": [
        {
          "output_type": "display_data",
          "data": {
            "text/plain": [
              "<Figure size 432x288 with 1 Axes>"
            ],
            "image/png": "[encoded data removed]"
          },
          "metadata": {
            "needs_background": "light"
          }
        }
      ]
    }
  ]
}